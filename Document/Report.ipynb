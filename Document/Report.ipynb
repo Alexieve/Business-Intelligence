{
 "cells": [
  {
   "cell_type": "markdown",
   "metadata": {},
   "source": [
    "<div style=\"text-align: center; background-color: #750E21; font-family: 'Trebuchet MS', Arial, sans-serif; color: white; padding: 20px; font-size: 40px; font-weight: bold; border-radius: 0 0 0 0; box-shadow: 0px 6px 8px rgba(0, 0, 0, 0.2);\">\n",
    "  PROJECT: BUILDING AND MINING DATA WAREHOUSE 📌\n",
    "</div>"
   ]
  },
  {
   "cell_type": "markdown",
   "metadata": {},
   "source": [
    "<div style=\"text-align: center; background-color: #0766AD; font-family: 'Trebuchet MS', Arial, sans-serif; color: white; padding: 20px; font-size: 40px; font-weight: bold; border-radius: 0 0 0 0; box-shadow: 0px 6px 8px rgba(0, 0, 0, 0.2);\">\n",
    "INTRODUCTION 📌\n",
    "</div>"
   ]
  },
  {
   "cell_type": "markdown",
   "metadata": {},
   "source": [
    "## Group Introduction"
   ]
  },
  {
   "cell_type": "markdown",
   "metadata": {},
   "source": [
    "- Course: Information System For Business Intelligence\n",
    "- Class: 21HTTT2\n",
    "- Semester: 1/24-25\n",
    "- Group ID: 2\n",
    "- Group member: \n",
    "    - Võ Đoàn Vương Thịnh      (Student ID: 21127172  |  Email: vdvthinh21@clc.fitus.edu.vn)\n",
    "    - Nguyễn Lê Hoàng Kha      (Student ID: 21127512  |  Email: nlhkha21@clc.fitus.edu.vn)\n",
    "    - Trương Vĩnh Phúc         (Student ID: 21127673  |  Email: tvphuc21@clc.fitus.edu.vn)\n",
    "    - Vũ Minh Quỳnh            (Student ID: 21127682  |  Email: vmquynh21@clc.fitus.edu.vn)"
   ]
  },
  {
   "cell_type": "markdown",
   "metadata": {},
   "source": [
    "## Planning"
   ]
  },
  {
   "cell_type": "markdown",
   "metadata": {},
   "source": [
    "#### **1. List of tool(s):**\n",
    "- GitHub: The group's common workspace, used to effectively manage the entire source code of the project. Follow detailed at https://github.com/Alexieve/Business-Intelligence\n",
    "- Jira: The group's common workspace, used to assign work, manage and evaluate the level of completion\n",
    "#### **2. List of Tasks**"
   ]
  },
  {
   "cell_type": "markdown",
   "metadata": {},
   "source": [
    "**PHASE 1: DATA DESCRIPTION**\n",
    "<table style=\"width: 100%; border-collapse: collapse;font-family: 'Trebuchet MS', Arial, sans-serif;\">\n",
    "  <thead>\n",
    "    <tr>\n",
    "      <th style=\"min-width: 10px; width: 30px; background-color: #4E70BB; color: white; font-size :20px; font-weight: bold; text-align: left; padding: 8px;\">No</th>\n",
    "      <th style=\" background-color: #4E70BB; color: white; font-size :20px; font-weight: bold; text-align: left; padding: 8px;\">Tasks</th>\n",
    "      <th style=\"width: 200px; background-color: #4E70BB; color: white; font-size :20px; font-weight: bold; text-align: left; padding: 8px;\">Assignee</th>\n",
    "      <th style=\"min-width: 10px; width: 100px; background-color: #4E70BB; color: white; font-size :20px; font-weight: bold; text-align: left; padding: 8px;\">Completed</th>\n",
    "    </tr>\n",
    "  </thead>\n",
    "  <tbody>\n",
    "    <tr>\n",
    "      <td style=\"font-weight: bold; font-size: 17px; text-align: left;\">1</td>\n",
    "      <td style=\"font-weight: bold; font-size: 17px; text-align: left;\">Describe meaning of the properties of the Data Sources.</td>\n",
    "      <td style=\"font-size: 17px; text-align: left;\">Quỳnh</td>\n",
    "      <td style=\"font-size: 17px; text-align: left;\">%</td>\n",
    "    </tr>\n",
    "    <tr>\n",
    "      <td style=\"font-weight: bold; font-size: 17px; text-align: left;\">2</td>\n",
    "      <td style=\"font-weight: bold; font-size: 17px; text-align: left;\">Push Data Sources into Stage</td>\n",
    "      <td style=\"font-size: 17px; text-align: left;\">Quỳnh</td>\n",
    "      <td style=\"font-size: 17px; text-align: left;\">%</td>\n",
    "    </tr>\n",
    "    <tr>\n",
    "      <td style=\"font-weight: bold; font-size: 17px; text-align: left;\">3</td>\n",
    "      <td style=\"font-weight: bold; font-size: 17px; text-align: left;\">Building Geography dimension with dimensional hierarchy</td>\n",
    "      <td style=\"font-size: 17px; text-align: left;\">...</td>\n",
    "      <td style=\"font-size: 17px; text-align: left;\">%</td>\n",
    "    </tr>\n",
    "    <tr>\n",
    "      <td style=\"font-weight: bold; font-size: 17px; text-align: left;\">4</td>\n",
    "      <td style=\"font-weight: bold; font-size: 17px; text-align: left;\">Transform the datetime data to create the Date dimension with dimensional hierarchy</td>\n",
    "      <td style=\"font-size: 17px; text-align: left;\">...</td>\n",
    "      <td style=\"font-size: 17px; text-align: left;\">%</td>\n",
    "    </tr>\n",
    "  </tbody>\n",
    "</table>"
   ]
  },
  {
   "cell_type": "markdown",
   "metadata": {},
   "source": [
    "---"
   ]
  },
  {
   "cell_type": "markdown",
   "metadata": {},
   "source": [
    "<div style=\"text-align: center; background-color: #0766AD; font-family: 'Trebuchet MS', Arial, sans-serif; color: white; padding: 20px; font-size: 40px; font-weight: bold; border-radius: 0 0 0 0; box-shadow: 0px 6px 8px rgba(0, 0, 0, 0.2);\">\n",
    "REPORT 📌\n",
    "</div>"
   ]
  },
  {
   "cell_type": "markdown",
   "metadata": {},
   "source": [
    "<div style=\"text-align: left; font-family: 'Trebuchet MS', Arial, sans-serif; color: #8C3333; padding: 20px; font-size: 25px; font-weight: bold; border-radius: 0 0 0 0; background-color: #AFC8AD\">\n",
    "  1. Data Description 🔥\n",
    "</div>"
   ]
  },
  {
   "cell_type": "markdown",
   "metadata": {},
   "source": [
    "**Data Sources 1: `(2B)uscounties.csv`**"
   ]
  },
  {
   "cell_type": "markdown",
   "metadata": {},
   "source": [
    "<table style=\"width: 100%; border-collapse: collapse;font-family: 'Trebuchet MS', Arial, sans-serif;\">\n",
    "  <thead>\n",
    "    <tr>\n",
    "      <th style=\"min-width: 10px; width: 30px; background-color: #4E70BB; color: white; font-size :20px; font-weight: bold; text-align: left; padding: 8px;\">No</th>\n",
    "      <th style=\"width: 300px; background-color: #4E70BB; color: white; font-size :20px; font-weight: bold; text-align: left; padding: 8px;\">Column Name</th>\n",
    "      <th style=\"background-color: #4E70BB; color: white; font-size :20px; font-weight: bold; text-align: left; padding: 8px;\">Meaning</th>\n",
    "    </tr>\n",
    "  </thead>\n",
    "  <tbody>\n",
    "    <tr>\n",
    "      <td style=\"font-weight: bold; font-size: 17px; color: #FFAA33; text-align: left;\">1</td>\n",
    "      <td style=\"font-weight: bold; font-size: 17px; color: #FFAA33; text-align: left;\">county</td>\n",
    "      <td style=\"font-size: 17px; text-align: left;\">The common name of the county.</td>\n",
    "    </tr>\n",
    "    <tr>\n",
    "      <td style=\"font-weight: bold; font-size: 17px; color: #FF0077; text-align: left;\">2</td>\n",
    "      <td style=\"font-weight: bold; font-size: 17px; color: #FF0077; text-align: left;\">county_ascii</td>\n",
    "      <td style=\"font-size: 17px; text-align: left;\">The county name using only ASCII characters.</td>\n",
    "    </tr>\n",
    "    <tr>\n",
    "      <td style=\"font-weight: bold; font-size: 17px; color: #009A80; text-align: left;\">3</td>\n",
    "      <td style=\"font-weight: bold; font-size: 17px; color: #009A80; text-align: left;\">county_full</td>\n",
    "      <td style=\"font-size: 17px; text-align: left;\">The complete official name of the county.</td>\n",
    "    </tr>\n",
    "    <tr>\n",
    "      <td style=\"font-weight: bold; font-size: 17px; color: #7DCE13; text-align: left;\">4</td>\n",
    "      <td style=\"font-weight: bold; font-size: 17px; color: #7DCE13; text-align: left;\">county_fips</td>\n",
    "      <td style=\"font-size: 17px; text-align: left;\">The Federal Information Processing Standard (FIPS) code, a unique identifier for each county (First 2 digits represent state code, Last 3 digits represent county code.)</td>\n",
    "    </tr>\n",
    "    <tr>\n",
    "      <td style=\"font-weight: bold; font-size: 17px; color: #EAE509; text-align: left;\">5</td>\n",
    "      <td style=\"font-weight: bold; font-size: 17px; color: #EAE509; text-align: left;\">state_id</td>\n",
    "      <td style=\"font-size: 17px; text-align: left;\">The two-letter postal abbreviation for the state.</td>\n",
    "    </tr>\n",
    "    <tr>\n",
    "      <td style=\"font-weight: bold; font-size: 17px; color: #3081D0; text-align: left;\">6</td>\n",
    "      <td style=\"font-weight: bold; font-size: 17px; color: #3081D0; text-align: left;\">state_name</td>\n",
    "      <td style=\"font-size: 17px; text-align: left;\">The full name of the state.</td>\n",
    "    </tr>\n",
    "    <tr>\n",
    "      <td style=\"font-weight: bold; font-size: 17px; color: #FFAA33; text-align: left;\">7</td>\n",
    "      <td style=\"font-weight: bold; font-size: 17px; color: #FFAA33; text-align: left;\">lat</td>\n",
    "      <td style=\"font-size: 17px; text-align: left;\">The latitude coordinate of the county's approximate center.</td>\n",
    "    </tr>\n",
    "    <tr>\n",
    "      <td style=\"font-weight: bold; font-size: 17px; color: #FF0077; text-align: left;\">8</td>\n",
    "      <td style=\"font-weight: bold; font-size: 17px; color: #FF0077; text-align: left;\">lng</td>\n",
    "      <td style=\"font-size: 17px; text-align: left;\">The longitude coordinate of the county's approximate center.</td>\n",
    "    </tr>\n",
    "    <tr>\n",
    "      <td style=\"font-weight: bold; font-size: 17px; color: #00A9FF; text-align: left;\">9</td>\n",
    "      <td style=\"font-weight: bold; font-size: 17px; color: #00A9FF; text-align: left;\">population</td>\n",
    "      <td style=\"font-size: 17px; text-align: left;\">The total population of the county.</td>\n",
    "    </tr>\n",
    "  </tbody>\n",
    "</table>"
   ]
  },
  {
   "cell_type": "markdown",
   "metadata": {},
   "source": [
    "**Data Sources 2: `10_state_aqi_2021.csv`, `10_state_aqi_2022.csv`, `10_state_aqi_2023.csv`**"
   ]
  },
  {
   "cell_type": "markdown",
   "metadata": {},
   "source": [
    "<table style=\"width: 100%; border-collapse: collapse;font-family: 'Trebuchet MS', Arial, sans-serif;\">\n",
    "  <thead>\n",
    "    <tr>\n",
    "      <th style=\"min-width: 10px; width: 30px; background-color: #4E70BB; color: white; font-size :20px; font-weight: bold; text-align: left; padding: 8px;\">No</th>\n",
    "      <th style=\"width: 300px; background-color: #4E70BB; color: white; font-size :20px; font-weight: bold; text-align: left; padding: 8px;\">Column Name</th>\n",
    "      <th style=\"background-color: #4E70BB; color: white; font-size :20px; font-weight: bold; text-align: left; padding: 8px;\">Meaning</th>\n",
    "    </tr>\n",
    "  </thead>\n",
    "  <tbody>\n",
    "    <tr>\n",
    "      <td style=\"font-weight: bold; font-size: 17px; color: #FFAA33; text-align: left;\">1</td>\n",
    "      <td style=\"font-weight: bold; font-size: 17px; color: #FFAA33; text-align: left;\">State Name</td>\n",
    "      <td style=\"font-size: 17px; text-align: left;\">The name of the state where the monitoring site is located..</td>\n",
    "    </tr>\n",
    "    <tr>\n",
    "      <td style=\"font-weight: bold; font-size: 17px; color: #FF0077; text-align: left;\">2</td>\n",
    "      <td style=\"font-weight: bold; font-size: 17px; color: #FF0077; text-align: left;\">county Name</td>\n",
    "      <td style=\"font-size: 17px; text-align: left;\">The name of the county where the monitoring site is located.</td>\n",
    "    </tr>\n",
    "    <tr>\n",
    "      <td style=\"font-weight: bold; font-size: 17px; color: #009A80; text-align: left;\">3</td>\n",
    "      <td style=\"font-weight: bold; font-size: 17px; color: #009A80; text-align: left;\">State Code</td>\n",
    "      <td style=\"font-size: 17px; text-align: left;\">The FIPS code of the state in which the monitor resides.</td>\n",
    "    </tr>\n",
    "    <tr>\n",
    "      <td style=\"font-weight: bold; font-size: 17px; color: #7DCE13; text-align: left;\">4</td>\n",
    "      <td style=\"font-weight: bold; font-size: 17px; color: #7DCE13; text-align: left;\">County Code</td>\n",
    "      <td style=\"font-size: 17px; text-align: left;\">The FIPS code of the county in which the monitor resides.</td>\n",
    "    </tr>\n",
    "    <tr>\n",
    "      <td style=\"font-weight: bold; font-size: 17px; color: #EAE509; text-align: left;\">5</td>\n",
    "      <td style=\"font-weight: bold; font-size: 17px; color: #EAE509; text-align: left;\">Date</td>\n",
    "      <td style=\"font-size: 17px; text-align: left;\">The date when the air quality measurement was taken</td>\n",
    "    </tr>\n",
    "    <tr>\n",
    "      <td style=\"font-weight: bold; font-size: 17px; color: #3081D0; text-align: left;\">6</td>\n",
    "      <td style=\"font-weight: bold; font-size: 17px; color: #3081D0; text-align: left;\">AQI</td>\n",
    "      <td style=\"font-size: 17px; text-align: left;\">The Air Quality Index for the day for the pollutant, if applicable.</td>\n",
    "    </tr>\n",
    "    <tr>\n",
    "      <td style=\"font-weight: bold; font-size: 17px; color: #FFAA33; text-align: left;\">7</td>\n",
    "      <td style=\"font-weight: bold; font-size: 17px; color: #FFAA33; text-align: left;\">Category</td>\n",
    "      <td style=\"font-size: 17px; text-align: left;\">A descriptive rating of the air quality based on the AQI value.</td>\n",
    "    </tr>\n",
    "    <tr>\n",
    "      <td style=\"font-weight: bold; font-size: 17px; color: #FF0077; text-align: left;\">8</td>\n",
    "      <td style=\"font-weight: bold; font-size: 17px; color: #FF0077; text-align: left;\">Defining Parameter</td>\n",
    "      <td style=\"font-size: 17px; text-align: left;\">The primary pollutant that determined the AQI value.</td>\n",
    "    </tr>\n",
    "    <tr>\n",
    "      <td style=\"font-weight: bold; font-size: 17px; color: #00A9FF; text-align: left;\">9</td>\n",
    "      <td style=\"font-weight: bold; font-size: 17px; color: #00A9FF; text-align: left;\">Defining Site</td>\n",
    "      <td style=\"font-size: 17px; text-align: left;\">A unique identifier for the monitoring station.</td>\n",
    "    </tr>\n",
    "    <tr>\n",
    "      <td style=\"font-weight: bold; font-size: 17px; color: #7DCE13; text-align: left;\">10</td>\n",
    "      <td style=\"font-weight: bold; font-size: 17px; color: #7DCE13; text-align: left;\">Number of Sites Reporting</td>\n",
    "      <td style=\"font-size: 17px; text-align: left;\">How many monitoring sites contributed data.</td>\n",
    "    </tr>\n",
    "    <tr>\n",
    "      <td style=\"font-weight: bold; font-size: 17px; color: #EAE509; text-align: left;\">11</td>\n",
    "      <td style=\"font-weight: bold; font-size: 17px; color: #EAE509; text-align: left;\">Created</td>\n",
    "      <td style=\"font-size: 17px; text-align: left;\">The timestamp when the record was created in the database.</td>\n",
    "    </tr>\n",
    "    <tr>\n",
    "      <td style=\"font-weight: bold; font-size: 17px; color: #3081D0; text-align: left;\">12</td>\n",
    "      <td style=\"font-weight: bold; font-size: 17px; color: #3081D0; text-align: left;\">Last Updated</td>\n",
    "      <td style=\"font-size: 17px; text-align: left;\">The timestamp when the record was last modified.</td>\n",
    "    </tr>\n",
    "  </tbody>\n",
    "</table>"
   ]
  },
  {
   "cell_type": "markdown",
   "metadata": {},
   "source": [
    "<div style=\"text-align: left; font-family: 'Trebuchet MS', Arial, sans-serif; color: #8C3333; padding: 20px; font-size: 25px; font-weight: bold; border-radius: 0 0 0 0; background-color: #AFC8AD\">\n",
    "  2. Design data warehouse (DW) 🔥\n",
    "</div>"
   ]
  }
 ],
 "metadata": {
  "kernelspec": {
   "display_name": "Python 3",
   "language": "python",
   "name": "python3"
  },
  "language_info": {
   "codemirror_mode": {
    "name": "ipython",
    "version": 3
   },
   "file_extension": ".py",
   "mimetype": "text/x-python",
   "name": "python",
   "nbconvert_exporter": "python",
   "pygments_lexer": "ipython3",
   "version": "3.13.0"
  }
 },
 "nbformat": 4,
 "nbformat_minor": 2
}
