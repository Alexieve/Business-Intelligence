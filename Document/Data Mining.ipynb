{
 "cells": [
  {
   "cell_type": "markdown",
   "metadata": {},
   "source": [
    "<div style=\"text-align: center; background-color: #750E21; font-family: 'Trebuchet MS', Arial, sans-serif; color: white; padding: 20px; font-size: 40px; font-weight: bold; border-radius: 0 0 0 0; box-shadow: 0px 6px 8px rgba(0, 0, 0, 0.2);\">\n",
    "  PROJECT: BUILDING AND MINING DATA WAREHOUSE 📌\n",
    "</div>"
   ]
  },
  {
   "cell_type": "markdown",
   "metadata": {},
   "source": [
    "<div style=\"text-align: center; background-color: #0766AD; font-family: 'Trebuchet MS', Arial, sans-serif; color: white; padding: 20px; font-size: 40px; font-weight: bold; border-radius: 0 0 0 0; box-shadow: 0px 6px 8px rgba(0, 0, 0, 0.2);\">\n",
    "DATA MINING 📌\n",
    "</div>"
   ]
  },
  {
   "cell_type": "code",
   "execution_count": 9,
   "metadata": {},
   "outputs": [],
   "source": [
    "import pandas as pd\n",
    "from sklearn import preprocessing\n",
    "from sklearn.preprocessing import MinMaxScaler\n",
    "from sklearn.model_selection import train_test_split\n",
    "from sklearn.ensemble import RandomForestRegressor\n",
    "from sklearn.metrics import mean_squared_error\n",
    "from sklearn.metrics import mean_absolute_error, r2_score"
   ]
  },
  {
   "cell_type": "markdown",
   "metadata": {},
   "source": [
    "### 📝 **Đọc dữ liệu từ Data Warehouse**"
   ]
  },
  {
   "cell_type": "markdown",
   "metadata": {},
   "source": [
    "Đầu tiên, ta sẽ đọc dữ liệu từ Data warehouse (AirPollution_DDS). Sau đó chúng ta sẽ kiểm tra kiểu dữ liệu của các cột và xem một vài dòng dữ liệu đầu tiên."
   ]
  },
  {
   "cell_type": "code",
   "execution_count": 10,
   "metadata": {},
   "outputs": [
    {
     "name": "stdout",
     "output_type": "stream",
     "text": [
      "<class 'pandas.core.frame.DataFrame'>\n",
      "RangeIndex: 128430 entries, 0 to 128429\n",
      "Data columns (total 6 columns):\n",
      " #   Column          Non-Null Count   Dtype \n",
      "---  ------          --------------   ----- \n",
      " 0   full_date       128430 non-null  object\n",
      " 1   county_name     128430 non-null  object\n",
      " 2   site_code_DD    128430 non-null  int64 \n",
      " 3   parameter_name  128430 non-null  object\n",
      " 4   category_name   128430 non-null  object\n",
      " 5   aqi             128430 non-null  int64 \n",
      "dtypes: int64(2), object(4)\n",
      "memory usage: 5.9+ MB\n",
      "None\n",
      "    full_date  county_name  site_code_DD parameter_name category_name  aqi\n",
      "0  2021-01-01     Macoupin             2            NO2          Good    3\n",
      "1  2021-01-01  North Slope          9000          PM2.5          Good    3\n",
      "2  2021-01-01     Harrison             5             CO          Good    3\n",
      "3  2021-01-01       Wilson          1038            NO2          Good    4\n",
      "4  2021-01-01      Kleberg           314          PM2.5          Good    5\n"
     ]
    }
   ],
   "source": [
    "df = pd.read_csv('fact_aqi.csv')\n",
    "\n",
    "print(df.info())\n",
    "print(df.head())"
   ]
  },
  {
   "cell_type": "markdown",
   "metadata": {},
   "source": [
    "Tiếp theo, chúng ta sẽ thêm một số cột dữ liệu Input liên quan đến ngày tháng để hỗ trợ tốt hơn cho việc dự đoán kết quả AQI."
   ]
  },
  {
   "cell_type": "code",
   "execution_count": 11,
   "metadata": {},
   "outputs": [],
   "source": [
    "# Convert full_date to datetime and add some date features\n",
    "df['full_date'] = pd.to_datetime(df['full_date'])\n",
    "df['month'] = df['full_date'].dt.month\n",
    "df['day'] = df['full_date'].dt.day\n",
    "df['day_of_week'] = df['full_date'].dt.dayofweek  # 0 = Monday, 6 = Sunday\n",
    "df['is_weekend'] = df['day_of_week'] >= 5"
   ]
  },
  {
   "cell_type": "markdown",
   "metadata": {},
   "source": [
    "Sau đó, chúng ta sẽ thực hiện Label Encoder cho cột `county_name`, chuẩn hoá các cột dữ liệu còn lại để hỗ trợ tốt hơn cho việc xây dựng mô hình dự đoán."
   ]
  },
  {
   "cell_type": "code",
   "execution_count": 12,
   "metadata": {},
   "outputs": [],
   "source": [
    "# Encode categorical variables\n",
    "le = preprocessing.LabelEncoder()\n",
    "df['county_name'] = le.fit_transform(df['county_name'])\n",
    "\n",
    "scaler = MinMaxScaler()\n",
    "df['full_date'] = scaler.fit_transform(df[['full_date']])\n",
    "df['month'] = scaler.fit_transform(df[['month']])\n",
    "df['day'] = scaler.fit_transform(df[['day']])\n",
    "df['day_of_week'] = scaler.fit_transform(df[['day_of_week']])\n",
    "df['is_weekend'] = scaler.fit_transform(df[['is_weekend']])"
   ]
  },
  {
   "cell_type": "markdown",
   "metadata": {},
   "source": [
    "Bây giờ, chúng ta sẽ lọc ra các thuộc tính Input (X) và thuộc tính Target (y). Và chúng ta cũng sẽ chia bộ dữ liệu theo tỉ lệ 8/2 lần lượt cho tập dữ liệu để Train và tập dữ liệu để Test."
   ]
  },
  {
   "cell_type": "code",
   "execution_count": 13,
   "metadata": {},
   "outputs": [],
   "source": [
    "X = df.drop(columns=['full_date', 'aqi', 'site_code_DD', 'category_name', 'parameter_name']) \n",
    "y = df['aqi'] \n",
    "\n",
    "X_train, X_test, y_train, y_test = train_test_split(X, y, test_size=0.2, random_state=42)"
   ]
  },
  {
   "cell_type": "markdown",
   "metadata": {},
   "source": [
    "Sau khi có các Input và có các tập dữ liệu để Train, ta sẽ tiếp tục xây dựng mô hình dự đoán với thuật toán Random Forest."
   ]
  },
  {
   "cell_type": "code",
   "execution_count": 14,
   "metadata": {},
   "outputs": [],
   "source": [
    "# Khởi tạo và huấn luyện mô hình Random Forest\n",
    "rf_model = RandomForestRegressor(n_estimators=100, random_state=42)\n",
    "rf_model.fit(X_train, y_train)\n",
    "\n",
    "# Dự đoán trên tập kiểm tra\n",
    "y_pred = rf_model.predict(X_test)"
   ]
  },
  {
   "cell_type": "markdown",
   "metadata": {},
   "source": [
    "Sau khi đã xây dựng mô hình, chúng ta sẽ kiểm tra các giá trị `MSE`, `MAE`, `R²` và độ chính xác của mô hình."
   ]
  },
  {
   "cell_type": "code",
   "execution_count": 15,
   "metadata": {},
   "outputs": [
    {
     "name": "stdout",
     "output_type": "stream",
     "text": [
      "Mean Squared Error (MSE): 371.1023\n",
      "Mean Absolute Error (MAE): 13.0188\n",
      "R² Score: 0.3147\n",
      "Accuracy: 31.4654%\n"
     ]
    }
   ],
   "source": [
    "# Đánh giá mô hình\n",
    "mse = mean_squared_error(y_test, y_pred)\n",
    "mae = mean_absolute_error(y_test, y_pred)\n",
    "r2 = r2_score(y_test, y_pred)\n",
    "accuracy = rf_model.score(X_test, y_test)\n",
    "accuracy = accuracy * 100\n",
    "\n",
    "# format with 4 decimal places\n",
    "mse = \"{:.4f}\".format(mse)\n",
    "mae = \"{:.4f}\".format(mae)\n",
    "r2 = \"{:.4f}\".format(r2)\n",
    "accuracy = \"{:.4f}\".format(accuracy)\n",
    "\n",
    "print(f\"Mean Squared Error (MSE): {mse}\")\n",
    "print(f\"Mean Absolute Error (MAE): {mae}\")\n",
    "print(f\"R² Score: {r2}\")\n",
    "print(f\"Accuracy: {accuracy}%\")"
   ]
  },
  {
   "cell_type": "markdown",
   "metadata": {},
   "source": [
    "- Giá trị MSE khá cao, tuy nhiên trong trường hợp aqi dao động từ 0 - 500 nên vẫn còn có thể chấp nhận được.\n",
    "\n",
    "- MAE ~ 13, có nghĩa là giá trị dự đoán AQI sai lệch khoảng 13 đơn vị AQI so với giá trị thực.\n",
    "\n",
    "- R² = 0.3153 là khá thấp. Điều này có nghĩa là mô hình chưa học được tốt mối quan hệ giữa các đặc trưng và giá trị AQI.\n",
    "\n",
    "- Độ chính xác chỉ là 31.46% nên đây chưa phải là mô hình dự đoán quá tốt, hoặc có thể là chưa đủ dữ liệu Input để thực hiện dự đoán cho mô hình."
   ]
  },
  {
   "cell_type": "markdown",
   "metadata": {},
   "source": [
    "Cuối cùng, chúng ta sẽ thực hiện dự đoán cho một `county` với một ngày nào đó trong tương lai."
   ]
  },
  {
   "cell_type": "code",
   "execution_count": 18,
   "metadata": {},
   "outputs": [
    {
     "name": "stdout",
     "output_type": "stream",
     "text": [
      "Predicted AQI: [41.68]\n"
     ]
    }
   ],
   "source": [
    "predict_date = '2024-09-24'\n",
    "county_name = 'Cochise'\n",
    "\n",
    "future_data = pd.DataFrame({\n",
    "    'full_date': pd.to_datetime([predict_date]),  # Future date\n",
    "    'county_name': [county_name],  # County name\n",
    "})\n",
    "\n",
    "# Preprocess the future data\n",
    "future_data['month'] = future_data['full_date'].dt.month\n",
    "future_data['day'] = future_data['full_date'].dt.day\n",
    "future_data['day_of_week'] = future_data['full_date'].dt.dayofweek\n",
    "future_data['is_weekend'] = future_data['day_of_week'] >= 5\n",
    "future_data['county_name'] = le.transform(future_data['county_name'])\n",
    "\n",
    "# Drop unused columns to match the feature set\n",
    "future_data_preprocessed = future_data.drop(columns=['full_date'])\n",
    "\n",
    "# Predict AQI\n",
    "predicted_aqi = rf_model.predict(future_data_preprocessed)\n",
    "print(f\"Predicted AQI: {predicted_aqi}\")\n"
   ]
  }
 ],
 "metadata": {
  "kernelspec": {
   "display_name": "Python 3",
   "language": "python",
   "name": "python3"
  },
  "language_info": {
   "codemirror_mode": {
    "name": "ipython",
    "version": 3
   },
   "file_extension": ".py",
   "mimetype": "text/x-python",
   "name": "python",
   "nbconvert_exporter": "python",
   "pygments_lexer": "ipython3",
   "version": "3.13.0"
  }
 },
 "nbformat": 4,
 "nbformat_minor": 2
}
